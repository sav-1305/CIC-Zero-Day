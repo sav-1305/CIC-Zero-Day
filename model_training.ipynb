{
 "cells": [
  {
   "cell_type": "code",
   "execution_count": 1,
   "id": "b1699492",
   "metadata": {},
   "outputs": [],
   "source": [
    "import pandas as pd\n",
    "import numpy as np\n",
    "import tensorflow as tf\n",
    "from tensorflow.keras import layers, Model, Input\n",
    "from sklearn.preprocessing import StandardScaler\n",
    "from sklearn.model_selection import train_test_split\n",
    "import joblib\n",
    "import xgboost as xgb"
   ]
  },
  {
   "cell_type": "code",
   "execution_count": 2,
   "id": "23c26370",
   "metadata": {},
   "outputs": [],
   "source": [
    "tf.random.set_seed(42)"
   ]
  },
  {
   "cell_type": "markdown",
   "id": "94db458b",
   "metadata": {},
   "source": [
    "# DATA IMPORT"
   ]
  },
  {
   "cell_type": "code",
   "execution_count": 3,
   "id": "5f11e264",
   "metadata": {},
   "outputs": [],
   "source": [
    "X = pd.read_csv(r\"ProcessedFeatures.csv\")\n",
    "y = pd.read_csv(r\"ProcessedLabels.csv\")"
   ]
  },
  {
   "cell_type": "code",
   "execution_count": 4,
   "id": "5a7e3f56",
   "metadata": {},
   "outputs": [],
   "source": [
    "zero_day_labels = ['Web Attack - XSS', 'Heartbleed', 'Web Attack - SQL Injection']\n",
    "df = X.copy()\n",
    "df[\"Label\"] = y[\"Label\"]"
   ]
  },
  {
   "cell_type": "code",
   "execution_count": 5,
   "id": "b8e4b632",
   "metadata": {},
   "outputs": [],
   "source": [
    "test_attacks_df = df[df[\"Label\"].isin(zero_day_labels)].copy()\n",
    "benign_df = df[df[\"Label\"] == \"BENIGN\"]\n",
    "test_benign_df = benign_df.sample(frac=0.1, random_state=42)  # 10% of benign data\n",
    "test_df = pd.concat([test_attacks_df, test_benign_df], ignore_index=True)\n",
    "train_df = df.drop(index=test_df.index)\n",
    "test_df.to_csv(\"test_data_for_simulation.csv\", index=False)"
   ]
  },
  {
   "cell_type": "code",
   "execution_count": 6,
   "id": "dcfc691b",
   "metadata": {},
   "outputs": [],
   "source": [
    "X_train = train_df.drop(columns=[\"Label\"])\n",
    "y_train_raw = train_df[\"Label\"]\n",
    "y_train = y_train_raw.apply(lambda x: 0 if x == \"BENIGN\" else 1)"
   ]
  },
  {
   "cell_type": "code",
   "execution_count": 7,
   "id": "9af4347d",
   "metadata": {},
   "outputs": [
    {
     "data": {
      "text/plain": [
       "['scaler.pkl']"
      ]
     },
     "execution_count": 7,
     "metadata": {},
     "output_type": "execute_result"
    }
   ],
   "source": [
    "scaler = StandardScaler()\n",
    "X_train_scaled = scaler.fit_transform(X_train)\n",
    "joblib.dump(scaler, \"scaler.pkl\")"
   ]
  },
  {
   "cell_type": "code",
   "execution_count": 8,
   "id": "4ad9d063",
   "metadata": {},
   "outputs": [],
   "source": [
    "X_benign_scaled = X_train_scaled[y_train == 0]"
   ]
  },
  {
   "cell_type": "markdown",
   "id": "0f43c067",
   "metadata": {},
   "source": [
    "# AUTOENCODER"
   ]
  },
  {
   "cell_type": "code",
   "execution_count": 9,
   "id": "ffdc6cb5",
   "metadata": {},
   "outputs": [],
   "source": [
    "input_dim = X_train.shape[1]\n",
    "encoding_dim = 16\n",
    "\n",
    "# Encoder\n",
    "input_layer = Input(shape=(input_dim,))\n",
    "encoded = layers.Dense(64, activation=\"relu\")(input_layer)\n",
    "encoded = layers.Dense(encoding_dim, activation=\"relu\")(encoded)\n",
    "\n",
    "# Decoder\n",
    "decoded = layers.Dense(64, activation=\"relu\")(encoded)\n",
    "decoded = layers.Dense(input_dim, activation=\"linear\")(decoded)\n",
    "\n",
    "autoencoder = Model(input_layer, decoded, name=\"autoencoder\")\n",
    "encoder = Model(input_layer, encoded, name=\"encoder\")"
   ]
  },
  {
   "cell_type": "code",
   "execution_count": 10,
   "id": "b45c1082",
   "metadata": {},
   "outputs": [
    {
     "name": "stdout",
     "output_type": "stream",
     "text": [
      "Epoch 1/50\n",
      "22340/22340 [==============================] - 50s 2ms/step - loss: 0.1100\n",
      "Epoch 2/50\n",
      "22340/22340 [==============================] - 41s 2ms/step - loss: 0.0594\n",
      "Epoch 3/50\n",
      "22340/22340 [==============================] - 49s 2ms/step - loss: 0.0420\n",
      "Epoch 4/50\n",
      "22340/22340 [==============================] - 35s 2ms/step - loss: 0.0453\n",
      "Epoch 5/50\n",
      "22340/22340 [==============================] - 33s 1ms/step - loss: 0.0397\n",
      "Epoch 6/50\n",
      "22340/22340 [==============================] - 48s 2ms/step - loss: 0.0289\n",
      "Epoch 7/50\n",
      "22340/22340 [==============================] - 40s 2ms/step - loss: 0.0330\n",
      "Epoch 8/50\n",
      "22340/22340 [==============================] - 41s 2ms/step - loss: 0.0245\n",
      "Epoch 9/50\n",
      "22340/22340 [==============================] - 35s 2ms/step - loss: 0.0264\n",
      "Epoch 10/50\n",
      "22340/22340 [==============================] - 31s 1ms/step - loss: 0.0256\n",
      "Epoch 11/50\n",
      "22340/22340 [==============================] - 32s 1ms/step - loss: 0.0234\n",
      "Epoch 12/50\n",
      "22340/22340 [==============================] - 30s 1ms/step - loss: 0.0219\n",
      "Epoch 13/50\n",
      "22340/22340 [==============================] - 32s 1ms/step - loss: 0.0212\n",
      "Epoch 14/50\n",
      "22340/22340 [==============================] - 30s 1ms/step - loss: 0.0297\n",
      "Epoch 15/50\n",
      "22340/22340 [==============================] - 32s 1ms/step - loss: 0.0212\n",
      "Epoch 16/50\n",
      "22340/22340 [==============================] - 41s 2ms/step - loss: 0.0195\n",
      "Epoch 17/50\n",
      "22340/22340 [==============================] - 42s 2ms/step - loss: 0.0207\n",
      "Epoch 18/50\n",
      "22340/22340 [==============================] - 46s 2ms/step - loss: 0.0314\n",
      "Epoch 19/50\n",
      "22340/22340 [==============================] - 71s 3ms/step - loss: 0.0229\n",
      "Epoch 20/50\n",
      "22340/22340 [==============================] - 46s 2ms/step - loss: 0.0198\n",
      "Epoch 21/50\n",
      "22340/22340 [==============================] - 45s 2ms/step - loss: 0.0195\n",
      "Epoch 22/50\n",
      "22340/22340 [==============================] - 45s 2ms/step - loss: 0.0204\n",
      "Epoch 23/50\n",
      "22340/22340 [==============================] - 45s 2ms/step - loss: 0.0219\n",
      "Epoch 24/50\n",
      "22340/22340 [==============================] - 45s 2ms/step - loss: 0.0192\n",
      "Epoch 25/50\n",
      "22340/22340 [==============================] - 44s 2ms/step - loss: 0.0176\n",
      "Epoch 26/50\n",
      "22340/22340 [==============================] - 47s 2ms/step - loss: 0.0156\n",
      "Epoch 27/50\n",
      "22340/22340 [==============================] - 44s 2ms/step - loss: 0.0188\n",
      "Epoch 28/50\n",
      "22340/22340 [==============================] - 46s 2ms/step - loss: 0.0173\n",
      "Epoch 29/50\n",
      "22340/22340 [==============================] - 48s 2ms/step - loss: 0.0169\n",
      "Epoch 30/50\n",
      "22340/22340 [==============================] - 47s 2ms/step - loss: 0.0168\n",
      "Epoch 31/50\n",
      "22340/22340 [==============================] - 49s 2ms/step - loss: 0.0150\n",
      "Epoch 32/50\n",
      "22340/22340 [==============================] - 52s 2ms/step - loss: 0.0168\n",
      "Epoch 33/50\n",
      "22340/22340 [==============================] - 43s 2ms/step - loss: 0.0162\n",
      "Epoch 34/50\n",
      "22340/22340 [==============================] - 45s 2ms/step - loss: 0.0162\n",
      "Epoch 35/50\n",
      "22340/22340 [==============================] - 47s 2ms/step - loss: 0.0157\n",
      "Epoch 36/50\n",
      "22340/22340 [==============================] - 45s 2ms/step - loss: 0.0143\n",
      "Epoch 37/50\n",
      "22340/22340 [==============================] - 35s 2ms/step - loss: 0.0146\n",
      "Epoch 38/50\n",
      "22340/22340 [==============================] - 35s 2ms/step - loss: 0.0139\n",
      "Epoch 39/50\n",
      "22340/22340 [==============================] - 37s 2ms/step - loss: 0.0138\n",
      "Epoch 40/50\n",
      "22340/22340 [==============================] - 38s 2ms/step - loss: 0.0157\n",
      "Epoch 41/50\n",
      "22340/22340 [==============================] - 38s 2ms/step - loss: 0.0134\n",
      "Epoch 42/50\n",
      "22340/22340 [==============================] - 36s 2ms/step - loss: 0.0136\n",
      "Epoch 43/50\n",
      "22340/22340 [==============================] - 40s 2ms/step - loss: 0.0135\n",
      "Epoch 44/50\n",
      "22340/22340 [==============================] - 41s 2ms/step - loss: 0.0136\n",
      "Epoch 45/50\n",
      "22340/22340 [==============================] - 38s 2ms/step - loss: 0.0136\n",
      "Epoch 46/50\n",
      "22340/22340 [==============================] - 38s 2ms/step - loss: 0.0137\n",
      "Epoch 47/50\n",
      "22340/22340 [==============================] - 38s 2ms/step - loss: 0.0146\n",
      "Epoch 48/50\n",
      "22340/22340 [==============================] - 39s 2ms/step - loss: 0.0137\n",
      "Epoch 49/50\n",
      "22340/22340 [==============================] - 42s 2ms/step - loss: 0.0142\n",
      "Epoch 50/50\n",
      "22340/22340 [==============================] - 38s 2ms/step - loss: 0.0131\n"
     ]
    },
    {
     "data": {
      "text/plain": [
       "<keras.src.callbacks.History at 0x1b92fcaa8e0>"
      ]
     },
     "execution_count": 10,
     "metadata": {},
     "output_type": "execute_result"
    }
   ],
   "source": [
    "autoencoder.compile(optimizer='adam', loss='mse')\n",
    "autoencoder.fit(X_benign_scaled, X_benign_scaled, epochs=50, batch_size=64, verbose=1)"
   ]
  },
  {
   "cell_type": "code",
   "execution_count": 11,
   "id": "3f7da603",
   "metadata": {},
   "outputs": [],
   "source": [
    "autoencoder.save(\"autoencoder_model.keras\")\n",
    "encoder.save(\"ae_encoder.keras\")"
   ]
  },
  {
   "cell_type": "markdown",
   "id": "bd81fbca",
   "metadata": {},
   "source": [
    "# XGBoost Downstream"
   ]
  },
  {
   "cell_type": "code",
   "execution_count": 12,
   "id": "6ceed9bf",
   "metadata": {},
   "outputs": [
    {
     "name": "stdout",
     "output_type": "stream",
     "text": [
      "60896/60896 [==============================] - 64s 1ms/step\n"
     ]
    }
   ],
   "source": [
    "z_train = encoder.predict(X_train_scaled)\n",
    "xgb_model = xgb.XGBClassifier(use_label_encoder=False, eval_metric=\"logloss\")"
   ]
  },
  {
   "cell_type": "code",
   "execution_count": 13,
   "id": "40e99292",
   "metadata": {},
   "outputs": [
    {
     "data": {
      "text/html": [
       "<style>#sk-container-id-1 {color: black;}#sk-container-id-1 pre{padding: 0;}#sk-container-id-1 div.sk-toggleable {background-color: white;}#sk-container-id-1 label.sk-toggleable__label {cursor: pointer;display: block;width: 100%;margin-bottom: 0;padding: 0.3em;box-sizing: border-box;text-align: center;}#sk-container-id-1 label.sk-toggleable__label-arrow:before {content: \"▸\";float: left;margin-right: 0.25em;color: #696969;}#sk-container-id-1 label.sk-toggleable__label-arrow:hover:before {color: black;}#sk-container-id-1 div.sk-estimator:hover label.sk-toggleable__label-arrow:before {color: black;}#sk-container-id-1 div.sk-toggleable__content {max-height: 0;max-width: 0;overflow: hidden;text-align: left;background-color: #f0f8ff;}#sk-container-id-1 div.sk-toggleable__content pre {margin: 0.2em;color: black;border-radius: 0.25em;background-color: #f0f8ff;}#sk-container-id-1 input.sk-toggleable__control:checked~div.sk-toggleable__content {max-height: 200px;max-width: 100%;overflow: auto;}#sk-container-id-1 input.sk-toggleable__control:checked~label.sk-toggleable__label-arrow:before {content: \"▾\";}#sk-container-id-1 div.sk-estimator input.sk-toggleable__control:checked~label.sk-toggleable__label {background-color: #d4ebff;}#sk-container-id-1 div.sk-label input.sk-toggleable__control:checked~label.sk-toggleable__label {background-color: #d4ebff;}#sk-container-id-1 input.sk-hidden--visually {border: 0;clip: rect(1px 1px 1px 1px);clip: rect(1px, 1px, 1px, 1px);height: 1px;margin: -1px;overflow: hidden;padding: 0;position: absolute;width: 1px;}#sk-container-id-1 div.sk-estimator {font-family: monospace;background-color: #f0f8ff;border: 1px dotted black;border-radius: 0.25em;box-sizing: border-box;margin-bottom: 0.5em;}#sk-container-id-1 div.sk-estimator:hover {background-color: #d4ebff;}#sk-container-id-1 div.sk-parallel-item::after {content: \"\";width: 100%;border-bottom: 1px solid gray;flex-grow: 1;}#sk-container-id-1 div.sk-label:hover label.sk-toggleable__label {background-color: #d4ebff;}#sk-container-id-1 div.sk-serial::before {content: \"\";position: absolute;border-left: 1px solid gray;box-sizing: border-box;top: 0;bottom: 0;left: 50%;z-index: 0;}#sk-container-id-1 div.sk-serial {display: flex;flex-direction: column;align-items: center;background-color: white;padding-right: 0.2em;padding-left: 0.2em;position: relative;}#sk-container-id-1 div.sk-item {position: relative;z-index: 1;}#sk-container-id-1 div.sk-parallel {display: flex;align-items: stretch;justify-content: center;background-color: white;position: relative;}#sk-container-id-1 div.sk-item::before, #sk-container-id-1 div.sk-parallel-item::before {content: \"\";position: absolute;border-left: 1px solid gray;box-sizing: border-box;top: 0;bottom: 0;left: 50%;z-index: -1;}#sk-container-id-1 div.sk-parallel-item {display: flex;flex-direction: column;z-index: 1;position: relative;background-color: white;}#sk-container-id-1 div.sk-parallel-item:first-child::after {align-self: flex-end;width: 50%;}#sk-container-id-1 div.sk-parallel-item:last-child::after {align-self: flex-start;width: 50%;}#sk-container-id-1 div.sk-parallel-item:only-child::after {width: 0;}#sk-container-id-1 div.sk-dashed-wrapped {border: 1px dashed gray;margin: 0 0.4em 0.5em 0.4em;box-sizing: border-box;padding-bottom: 0.4em;background-color: white;}#sk-container-id-1 div.sk-label label {font-family: monospace;font-weight: bold;display: inline-block;line-height: 1.2em;}#sk-container-id-1 div.sk-label-container {text-align: center;}#sk-container-id-1 div.sk-container {/* jupyter's `normalize.less` sets `[hidden] { display: none; }` but bootstrap.min.css set `[hidden] { display: none !important; }` so we also need the `!important` here to be able to override the default hidden behavior on the sphinx rendered scikit-learn.org. See: https://github.com/scikit-learn/scikit-learn/issues/21755 */display: inline-block !important;position: relative;}#sk-container-id-1 div.sk-text-repr-fallback {display: none;}</style><div id=\"sk-container-id-1\" class=\"sk-top-container\"><div class=\"sk-text-repr-fallback\"><pre>XGBClassifier(base_score=None, booster=None, callbacks=None,\n",
       "              colsample_bylevel=None, colsample_bynode=None,\n",
       "              colsample_bytree=None, device=None, early_stopping_rounds=None,\n",
       "              enable_categorical=False, eval_metric=&#x27;logloss&#x27;,\n",
       "              feature_types=None, gamma=None, grow_policy=None,\n",
       "              importance_type=None, interaction_constraints=None,\n",
       "              learning_rate=None, max_bin=None, max_cat_threshold=None,\n",
       "              max_cat_to_onehot=None, max_delta_step=None, max_depth=None,\n",
       "              max_leaves=None, min_child_weight=None, missing=nan,\n",
       "              monotone_constraints=None, multi_strategy=None, n_estimators=None,\n",
       "              n_jobs=None, num_parallel_tree=None, random_state=None, ...)</pre><b>In a Jupyter environment, please rerun this cell to show the HTML representation or trust the notebook. <br />On GitHub, the HTML representation is unable to render, please try loading this page with nbviewer.org.</b></div><div class=\"sk-container\" hidden><div class=\"sk-item\"><div class=\"sk-estimator sk-toggleable\"><input class=\"sk-toggleable__control sk-hidden--visually\" id=\"sk-estimator-id-1\" type=\"checkbox\" checked><label for=\"sk-estimator-id-1\" class=\"sk-toggleable__label sk-toggleable__label-arrow\">XGBClassifier</label><div class=\"sk-toggleable__content\"><pre>XGBClassifier(base_score=None, booster=None, callbacks=None,\n",
       "              colsample_bylevel=None, colsample_bynode=None,\n",
       "              colsample_bytree=None, device=None, early_stopping_rounds=None,\n",
       "              enable_categorical=False, eval_metric=&#x27;logloss&#x27;,\n",
       "              feature_types=None, gamma=None, grow_policy=None,\n",
       "              importance_type=None, interaction_constraints=None,\n",
       "              learning_rate=None, max_bin=None, max_cat_threshold=None,\n",
       "              max_cat_to_onehot=None, max_delta_step=None, max_depth=None,\n",
       "              max_leaves=None, min_child_weight=None, missing=nan,\n",
       "              monotone_constraints=None, multi_strategy=None, n_estimators=None,\n",
       "              n_jobs=None, num_parallel_tree=None, random_state=None, ...)</pre></div></div></div></div></div>"
      ],
      "text/plain": [
       "XGBClassifier(base_score=None, booster=None, callbacks=None,\n",
       "              colsample_bylevel=None, colsample_bynode=None,\n",
       "              colsample_bytree=None, device=None, early_stopping_rounds=None,\n",
       "              enable_categorical=False, eval_metric='logloss',\n",
       "              feature_types=None, gamma=None, grow_policy=None,\n",
       "              importance_type=None, interaction_constraints=None,\n",
       "              learning_rate=None, max_bin=None, max_cat_threshold=None,\n",
       "              max_cat_to_onehot=None, max_delta_step=None, max_depth=None,\n",
       "              max_leaves=None, min_child_weight=None, missing=nan,\n",
       "              monotone_constraints=None, multi_strategy=None, n_estimators=None,\n",
       "              n_jobs=None, num_parallel_tree=None, random_state=None, ...)"
      ]
     },
     "execution_count": 13,
     "metadata": {},
     "output_type": "execute_result"
    }
   ],
   "source": [
    "xgb_model.fit(z_train, y_train)"
   ]
  },
  {
   "cell_type": "code",
   "execution_count": 14,
   "id": "d908154d",
   "metadata": {},
   "outputs": [],
   "source": [
    "xgb_model.save_model(\"xgb_model.json\")"
   ]
  }
 ],
 "metadata": {
  "kernelspec": {
   "display_name": "Python 3",
   "language": "python",
   "name": "python3"
  },
  "language_info": {
   "codemirror_mode": {
    "name": "ipython",
    "version": 3
   },
   "file_extension": ".py",
   "mimetype": "text/x-python",
   "name": "python",
   "nbconvert_exporter": "python",
   "pygments_lexer": "ipython3",
   "version": "3.8.10"
  }
 },
 "nbformat": 4,
 "nbformat_minor": 5
}
